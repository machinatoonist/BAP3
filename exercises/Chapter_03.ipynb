{
 "cells": [
  {
   "cell_type": "markdown",
   "id": "8195bde4-1a1c-4630-a828-22182a52911b",
   "metadata": {},
   "source": [
    "# Chapter 3 Exercises"
   ]
  },
  {
   "cell_type": "code",
   "execution_count": 1,
   "id": "ec5bffaf-6dbf-426b-9b19-9bb5038418ed",
   "metadata": {},
   "outputs": [],
   "source": [
    "import arviz as az\n",
    "import matplotlib.pyplot as plt\n",
    "import numpy as np\n",
    "import pandas as pd\n",
    "import preliz as pz\n",
    "import pymc as pm\n",
    "\n",
    "\n",
    "np.random.seed(123)\n",
    "az.style.use('arviz-white')"
   ]
  },
  {
   "cell_type": "markdown",
   "id": "f4aac7b4-e2ce-47a7-adbb-6f4b0b7e0642",
   "metadata": {},
   "source": [
    "## Exercise 1\n",
    "***\n",
    "\n",
    "Using your own words explain the following concepts in two or three sentences:\n",
    "\n",
    "* Complete pooling\n",
    "* No pooling\n",
    "* Partial pooling\n",
    "\n",
    "Bonus. Try asking this to chat-gpt or perplexity. Ask for answers in different styles (like casual, PhD student, etc). Compare those answers to yours and spot differences and similarities.  "
   ]
  },
  {
   "cell_type": "markdown",
   "id": "0ed86db0-9482-419b-92c5-57153ffa2677",
   "metadata": {},
   "source": [
    "## Exercise 2\n",
    "***\n",
    "\n",
    "Repeat the exercise we did with `model_h`. This time, without a hierarchical structure, use a flat prior such as Beta(𝛼 = 1, 𝛽 = 1). Compare the results of both models.\n",
    "\n",
    "\n",
    "We will first load the data and rerun the `model_h`"
   ]
  },
  {
   "cell_type": "code",
   "execution_count": 2,
   "id": "38551605-53cc-4d30-a22a-c00a26328d57",
   "metadata": {},
   "outputs": [],
   "source": [
    "N_samples = [30, 30, 30]\n",
    "G_samples = [18, 3, 3] # Try different values\n",
    "group_idx = np.repeat(np.arange(len(N_samples)), N_samples)\n",
    "data = []\n",
    "for i in range(0, len(N_samples)):\n",
    "    data.extend(np.repeat([1, 0], [G_samples[i], N_samples[i]-G_samples[i]]))"
   ]
  },
  {
   "cell_type": "code",
   "execution_count": 3,
   "id": "ddf4178d-4ec7-4aa4-adf2-33c9bded757b",
   "metadata": {},
   "outputs": [
    {
     "name": "stderr",
     "output_type": "stream",
     "text": [
      "Auto-assigning NUTS sampler...\n",
      "Initializing NUTS using jitter+adapt_diag...\n",
      "Multiprocess sampling (4 chains in 4 jobs)\n",
      "NUTS: [μ, ν, θ]\n"
     ]
    },
    {
     "data": {
      "text/html": [
       "\n",
       "<style>\n",
       "    /* Turns off some styling */\n",
       "    progress {\n",
       "        /* gets rid of default border in Firefox and Opera. */\n",
       "        border: none;\n",
       "        /* Needs to be in here for Safari polyfill so background images work as expected. */\n",
       "        background-size: auto;\n",
       "    }\n",
       "    progress:not([value]), progress:not([value])::-webkit-progress-bar {\n",
       "        background: repeating-linear-gradient(45deg, #7e7e7e, #7e7e7e 10px, #5c5c5c 10px, #5c5c5c 20px);\n",
       "    }\n",
       "    .progress-bar-interrupted, .progress-bar-interrupted::-webkit-progress-bar {\n",
       "        background: #F44336;\n",
       "    }\n",
       "</style>\n"
      ],
      "text/plain": [
       "<IPython.core.display.HTML object>"
      ]
     },
     "metadata": {},
     "output_type": "display_data"
    },
    {
     "data": {
      "text/html": [
       "\n",
       "    <div>\n",
       "      <progress value='8000' class='' max='8000' style='width:300px; height:20px; vertical-align: middle;'></progress>\n",
       "      100.00% [8000/8000 00:01&lt;00:00 Sampling 4 chains, 0 divergences]\n",
       "    </div>\n",
       "    "
      ],
      "text/plain": [
       "<IPython.core.display.HTML object>"
      ]
     },
     "metadata": {},
     "output_type": "display_data"
    },
    {
     "name": "stderr",
     "output_type": "stream",
     "text": [
      "Sampling 4 chains for 1_000 tune and 1_000 draw iterations (4_000 + 4_000 draws total) took 2 seconds.\n"
     ]
    }
   ],
   "source": [
    "with pm.Model() as model_h:\n",
    "    μ = pm.Beta('μ', 1., 1.)\n",
    "    ν = pm.HalfNormal('ν', 10)\n",
    "    θ = pm.Beta('θ', mu=μ, nu=ν, shape=len(N_samples))\n",
    "    y = pm.Bernoulli('y', p=θ[group_idx], observed=data)\n",
    "\n",
    "    idata_h = pm.sample(random_seed=4591)"
   ]
  },
  {
   "cell_type": "code",
   "execution_count": 4,
   "id": "ef90fe95-ff50-4ab8-9e45-38310053dda3",
   "metadata": {},
   "outputs": [
    {
     "name": "stderr",
     "output_type": "stream",
     "text": [
      "Auto-assigning NUTS sampler...\n",
      "Initializing NUTS using jitter+adapt_diag...\n",
      "Multiprocess sampling (4 chains in 4 jobs)\n",
      "NUTS: [θ]\n"
     ]
    },
    {
     "data": {
      "text/html": [
       "\n",
       "<style>\n",
       "    /* Turns off some styling */\n",
       "    progress {\n",
       "        /* gets rid of default border in Firefox and Opera. */\n",
       "        border: none;\n",
       "        /* Needs to be in here for Safari polyfill so background images work as expected. */\n",
       "        background-size: auto;\n",
       "    }\n",
       "    progress:not([value]), progress:not([value])::-webkit-progress-bar {\n",
       "        background: repeating-linear-gradient(45deg, #7e7e7e, #7e7e7e 10px, #5c5c5c 10px, #5c5c5c 20px);\n",
       "    }\n",
       "    .progress-bar-interrupted, .progress-bar-interrupted::-webkit-progress-bar {\n",
       "        background: #F44336;\n",
       "    }\n",
       "</style>\n"
      ],
      "text/plain": [
       "<IPython.core.display.HTML object>"
      ]
     },
     "metadata": {},
     "output_type": "display_data"
    },
    {
     "data": {
      "text/html": [
       "\n",
       "    <div>\n",
       "      <progress value='8000' class='' max='8000' style='width:300px; height:20px; vertical-align: middle;'></progress>\n",
       "      100.00% [8000/8000 00:00&lt;00:00 Sampling 4 chains, 0 divergences]\n",
       "    </div>\n",
       "    "
      ],
      "text/plain": [
       "<IPython.core.display.HTML object>"
      ]
     },
     "metadata": {},
     "output_type": "display_data"
    },
    {
     "name": "stderr",
     "output_type": "stream",
     "text": [
      "Sampling 4 chains for 1_000 tune and 1_000 draw iterations (4_000 + 4_000 draws total) took 1 seconds.\n"
     ]
    }
   ],
   "source": [
    "with pm.Model() as model_nh:\n",
    "    θ = pm.Beta('θ', 1, 1, shape=len(N_samples))\n",
    "    y = pm.Bernoulli('y', p=θ[group_idx], observed=data)\n",
    "\n",
    "    idata_nh = pm.sample(random_seed=4591)"
   ]
  },
  {
   "cell_type": "code",
   "execution_count": 5,
   "id": "28715083-eeb9-4a6f-a5dd-d8db8b7f0525",
   "metadata": {},
   "outputs": [
    {
     "data": {
      "image/png": "[encoded data removed]",
      "text/plain": [
       "<Figure size 1200x300 with 1 Axes>"
      ]
     },
     "metadata": {},
     "output_type": "display_data"
    }
   ],
   "source": [
    "axes = az.plot_forest([idata_nh, idata_h], model_names=['non_hierarchical', 'hierarchical'],\n",
    "                      var_names='θ', combined=True, r_hat=False, ess=False, figsize=(12, 3),\n",
    "                      colors='cycle')\n",
    "y_lims = axes[0].get_ylim()"
   ]
  },
  {
   "cell_type": "markdown",
   "id": "215de982-eb2c-4d8e-ad80-b95e579d28fe",
   "metadata": {},
   "source": [
    "We can see that the estimates for the second and third groups (`G_samples` = 3) are very similar for both models. But the estimate for the first group (`G_samples` = 18) in the hierarchical model has been \"pulled down\" compared with the non-hierarchical model."
   ]
  },
  {
   "cell_type": "markdown",
   "id": "aa05ea2e-a501-45a5-8ec7-2c2dfb3a910f",
   "metadata": {},
   "source": [
    "## Exercise 3\n",
    "***\n",
    "\n",
    "Create a hierarchical version of the tips example from Chapter 2, by partially pooling across the days of the week. Compare the results to those obtained without the hierarchical structure.\n",
    "\n",
    "\n",
    "First we are going to load the data and refit the model from chapter 2."
   ]
  },
  {
   "cell_type": "code",
   "execution_count": 6,
   "id": "257300df-e641-4e6b-91c1-fb315168ef69",
   "metadata": {},
   "outputs": [
    {
     "data": {
      "text/html": [
       "<div>\n",
       "<style scoped>\n",
       "    .dataframe tbody tr th:only-of-type {\n",
       "        vertical-align: middle;\n",
       "    }\n",
       "\n",
       "    .dataframe tbody tr th {\n",
       "        vertical-align: top;\n",
       "    }\n",
       "\n",
       "    .dataframe thead th {\n",
       "        text-align: right;\n",
       "    }\n",
       "</style>\n",
       "<table border=\"1\" class=\"dataframe\">\n",
       "  <thead>\n",
       "    <tr style=\"text-align: right;\">\n",
       "      <th></th>\n",
       "      <th>total_bill</th>\n",
       "      <th>tip</th>\n",
       "      <th>sex</th>\n",
       "      <th>smoker</th>\n",
       "      <th>day</th>\n",
       "      <th>time</th>\n",
       "      <th>size</th>\n",
       "    </tr>\n",
       "  </thead>\n",
       "  <tbody>\n",
       "    <tr>\n",
       "      <th>239</th>\n",
       "      <td>29.03</td>\n",
       "      <td>5.92</td>\n",
       "      <td>Male</td>\n",
       "      <td>No</td>\n",
       "      <td>Sat</td>\n",
       "      <td>Dinner</td>\n",
       "      <td>3</td>\n",
       "    </tr>\n",
       "    <tr>\n",
       "      <th>240</th>\n",
       "      <td>27.18</td>\n",
       "      <td>2.00</td>\n",
       "      <td>Female</td>\n",
       "      <td>Yes</td>\n",
       "      <td>Sat</td>\n",
       "      <td>Dinner</td>\n",
       "      <td>2</td>\n",
       "    </tr>\n",
       "    <tr>\n",
       "      <th>241</th>\n",
       "      <td>22.67</td>\n",
       "      <td>2.00</td>\n",
       "      <td>Male</td>\n",
       "      <td>Yes</td>\n",
       "      <td>Sat</td>\n",
       "      <td>Dinner</td>\n",
       "      <td>2</td>\n",
       "    </tr>\n",
       "    <tr>\n",
       "      <th>242</th>\n",
       "      <td>17.82</td>\n",
       "      <td>1.75</td>\n",
       "      <td>Male</td>\n",
       "      <td>No</td>\n",
       "      <td>Sat</td>\n",
       "      <td>Dinner</td>\n",
       "      <td>2</td>\n",
       "    </tr>\n",
       "    <tr>\n",
       "      <th>243</th>\n",
       "      <td>18.78</td>\n",
       "      <td>3.00</td>\n",
       "      <td>Female</td>\n",
       "      <td>No</td>\n",
       "      <td>Thur</td>\n",
       "      <td>Dinner</td>\n",
       "      <td>2</td>\n",
       "    </tr>\n",
       "  </tbody>\n",
       "</table>\n",
       "</div>"
      ],
      "text/plain": [
       "     total_bill   tip     sex smoker   day    time  size\n",
       "239       29.03  5.92    Male     No   Sat  Dinner     3\n",
       "240       27.18  2.00  Female    Yes   Sat  Dinner     2\n",
       "241       22.67  2.00    Male    Yes   Sat  Dinner     2\n",
       "242       17.82  1.75    Male     No   Sat  Dinner     2\n",
       "243       18.78  3.00  Female     No  Thur  Dinner     2"
      ]
     },
     "execution_count": 6,
     "metadata": {},
     "output_type": "execute_result"
    }
   ],
   "source": [
    "tips = pd.read_csv(\"../code/data/tips.csv\")\n",
    "tips.tail()"
   ]
  },
  {
   "cell_type": "code",
   "execution_count": 7,
   "id": "47951b37-a237-479c-9e5a-5eaf6c5b45f4",
   "metadata": {},
   "outputs": [],
   "source": [
    "categories = np.array([\"Thur\", \"Fri\", \"Sat\", \"Sun\"])\n",
    "\n",
    "tip = tips[\"tip\"].values\n",
    "idx = pd.Categorical(tips[\"day\"], categories=categories).codes"
   ]
  },
  {
   "cell_type": "code",
   "execution_count": 8,
   "id": "c3064fdc-5cc8-4bb0-8275-7d5f61fc6bb0",
   "metadata": {},
   "outputs": [
    {
     "name": "stderr",
     "output_type": "stream",
     "text": [
      "Auto-assigning NUTS sampler...\n",
      "Initializing NUTS using jitter+adapt_diag...\n",
      "Multiprocess sampling (4 chains in 4 jobs)\n",
      "NUTS: [μ, σ]\n"
     ]
    },
    {
     "data": {
      "text/html": [
       "\n",
       "<style>\n",
       "    /* Turns off some styling */\n",
       "    progress {\n",
       "        /* gets rid of default border in Firefox and Opera. */\n",
       "        border: none;\n",
       "        /* Needs to be in here for Safari polyfill so background images work as expected. */\n",
       "        background-size: auto;\n",
       "    }\n",
       "    progress:not([value]), progress:not([value])::-webkit-progress-bar {\n",
       "        background: repeating-linear-gradient(45deg, #7e7e7e, #7e7e7e 10px, #5c5c5c 10px, #5c5c5c 20px);\n",
       "    }\n",
       "    .progress-bar-interrupted, .progress-bar-interrupted::-webkit-progress-bar {\n",
       "        background: #F44336;\n",
       "    }\n",
       "</style>\n"
      ],
      "text/plain": [
       "<IPython.core.display.HTML object>"
      ]
     },
     "metadata": {},
     "output_type": "display_data"
    },
    {
     "data": {
      "text/html": [
       "\n",
       "    <div>\n",
       "      <progress value='12000' class='' max='12000' style='width:300px; height:20px; vertical-align: middle;'></progress>\n",
       "      100.00% [12000/12000 00:03&lt;00:00 Sampling 4 chains, 0 divergences]\n",
       "    </div>\n",
       "    "
      ],
      "text/plain": [
       "<IPython.core.display.HTML object>"
      ]
     },
     "metadata": {},
     "output_type": "display_data"
    },
    {
     "name": "stderr",
     "output_type": "stream",
     "text": [
      "Sampling 4 chains for 1_000 tune and 2_000 draw iterations (4_000 + 8_000 draws total) took 4 seconds.\n"
     ]
    }
   ],
   "source": [
    "coords = {\"days\": categories, \"days_flat\":categories[idx]}\n",
    "\n",
    "with pm.Model(coords=coords) as comparing_groups_nh:\n",
    "    μ = pm.HalfNormal(\"μ\", sigma=5, dims=\"days\")\n",
    "    σ = pm.HalfNormal(\"σ\", sigma=1, dims=\"days\")\n",
    "\n",
    "    y = pm.Gamma(\"y\", mu=μ[idx], sigma=σ[idx], observed=tip, dims=\"days_flat\")\n",
    "\n",
    "    idata_cg_nh = pm.sample(2000, random_seed=4591)\n"
   ]
  },
  {
   "cell_type": "markdown",
   "id": "092f3e70-ddbb-4415-9569-cf0eef83820d",
   "metadata": {},
   "source": [
    "Now we are going to build two hierarhical models:\n",
    "\n",
    "* For the first one `comparing_groups_h_00`, we just set a hyperprior over $\\mu$.\n",
    "* For the second one `comparing_groups_h_01`, we replace the $\\mu \\sim \\text{HalfNormal}$ for a $\\mu \\sim \\text{Gamma}$ and then set the hyperpriors for both the mean and standard deviation of the Gamma."
   ]
  },
  {
   "cell_type": "code",
   "execution_count": 9,
   "id": "624b40e6-6b1c-4f34-bf51-b85d4b23b2c5",
   "metadata": {},
   "outputs": [
    {
     "name": "stderr",
     "output_type": "stream",
     "text": [
      "Auto-assigning NUTS sampler...\n",
      "Initializing NUTS using jitter+adapt_diag...\n",
      "Multiprocess sampling (4 chains in 4 jobs)\n",
      "NUTS: [μ_g, μ, σ]\n"
     ]
    },
    {
     "data": {
      "text/html": [
       "\n",
       "<style>\n",
       "    /* Turns off some styling */\n",
       "    progress {\n",
       "        /* gets rid of default border in Firefox and Opera. */\n",
       "        border: none;\n",
       "        /* Needs to be in here for Safari polyfill so background images work as expected. */\n",
       "        background-size: auto;\n",
       "    }\n",
       "    progress:not([value]), progress:not([value])::-webkit-progress-bar {\n",
       "        background: repeating-linear-gradient(45deg, #7e7e7e, #7e7e7e 10px, #5c5c5c 10px, #5c5c5c 20px);\n",
       "    }\n",
       "    .progress-bar-interrupted, .progress-bar-interrupted::-webkit-progress-bar {\n",
       "        background: #F44336;\n",
       "    }\n",
       "</style>\n"
      ],
      "text/plain": [
       "<IPython.core.display.HTML object>"
      ]
     },
     "metadata": {},
     "output_type": "display_data"
    },
    {
     "data": {
      "text/html": [
       "\n",
       "    <div>\n",
       "      <progress value='8000' class='' max='8000' style='width:300px; height:20px; vertical-align: middle;'></progress>\n",
       "      100.00% [8000/8000 00:02&lt;00:00 Sampling 4 chains, 0 divergences]\n",
       "    </div>\n",
       "    "
      ],
      "text/plain": [
       "<IPython.core.display.HTML object>"
      ]
     },
     "metadata": {},
     "output_type": "display_data"
    },
    {
     "name": "stderr",
     "output_type": "stream",
     "text": [
      "Sampling 4 chains for 1_000 tune and 1_000 draw iterations (4_000 + 4_000 draws total) took 3 seconds.\n",
      "Auto-assigning NUTS sampler...\n",
      "Initializing NUTS using jitter+adapt_diag...\n",
      "Multiprocess sampling (4 chains in 4 jobs)\n",
      "NUTS: [μ_g, σ_g, μ, σ]\n"
     ]
    },
    {
     "data": {
      "text/html": [
       "\n",
       "<style>\n",
       "    /* Turns off some styling */\n",
       "    progress {\n",
       "        /* gets rid of default border in Firefox and Opera. */\n",
       "        border: none;\n",
       "        /* Needs to be in here for Safari polyfill so background images work as expected. */\n",
       "        background-size: auto;\n",
       "    }\n",
       "    progress:not([value]), progress:not([value])::-webkit-progress-bar {\n",
       "        background: repeating-linear-gradient(45deg, #7e7e7e, #7e7e7e 10px, #5c5c5c 10px, #5c5c5c 20px);\n",
       "    }\n",
       "    .progress-bar-interrupted, .progress-bar-interrupted::-webkit-progress-bar {\n",
       "        background: #F44336;\n",
       "    }\n",
       "</style>\n"
      ],
      "text/plain": [
       "<IPython.core.display.HTML object>"
      ]
     },
     "metadata": {},
     "output_type": "display_data"
    },
    {
     "data": {
      "text/html": [
       "\n",
       "    <div>\n",
       "      <progress value='8000' class='' max='8000' style='width:300px; height:20px; vertical-align: middle;'></progress>\n",
       "      100.00% [8000/8000 00:04&lt;00:00 Sampling 4 chains, 204 divergences]\n",
       "    </div>\n",
       "    "
      ],
      "text/plain": [
       "<IPython.core.display.HTML object>"
      ]
     },
     "metadata": {},
     "output_type": "display_data"
    },
    {
     "name": "stderr",
     "output_type": "stream",
     "text": [
      "Sampling 4 chains for 1_000 tune and 1_000 draw iterations (4_000 + 4_000 draws total) took 5 seconds.\n",
      "The rhat statistic is larger than 1.01 for some parameters. This indicates problems during sampling. See https://arxiv.org/abs/1903.08008 for details\n",
      "The effective sample size per chain is smaller than 100 for some parameters.  A higher number is needed for reliable rhat and ess computation. See https://arxiv.org/abs/1903.08008 for details\n",
      "There were 204 divergences after tuning. Increase `target_accept` or reparameterize.\n"
     ]
    }
   ],
   "source": [
    "coords = {\"days\": categories, \"days_flat\":categories[idx]}\n",
    "\n",
    "with pm.Model(coords=coords) as comparing_groups_h_00:\n",
    "    μ_g = pm.Gamma(\"μ_g\", mu=5, sigma=2)\n",
    "    μ = pm.HalfNormal(\"μ\", sigma=μ_g, dims=\"days\")\n",
    "    σ = pm.HalfNormal(\"σ\", sigma=1, dims=\"days\")\n",
    "\n",
    "    y = pm.Gamma(\"y\", mu=μ[idx], sigma=σ[idx], observed=tip, dims=\"days_flat\")\n",
    "\n",
    "    idata_cg_h_00 = pm.sample(random_seed=4591)\n",
    "\n",
    "\n",
    "with pm.Model(coords=coords) as comparing_groups_h_01:\n",
    "    μ_g = pm.Gamma(\"μ_g\", mu=5, sigma=2)\n",
    "    σ_g = pm.Gamma(\"σ_g\", mu=2, sigma=1.5)\n",
    "    μ = pm.Gamma(\"μ\", mu=μ_g, sigma=σ_g, dims=\"days\")\n",
    "    σ = pm.HalfNormal(\"σ\", sigma=1, dims=\"days\")\n",
    "\n",
    "    y = pm.Gamma(\"y\", mu=μ[idx], sigma=σ[idx], observed=tip, dims=\"days_flat\")\n",
    "\n",
    "    idata_cg_h_01 = pm.sample(random_seed=4591)\n",
    "\n",
    "\n",
    "# You may also want to try this non_centered version (this is discusssed in Chapter 4)\n",
    "#with pm.Model(coords=coords) as comparing_groups_h_01:\n",
    "#    μ_g = pm.Gamma(\"μ_g\", mu=5, sigma=2)\n",
    "#    σ_g = pm.HalfNormal(\"σ_g\", sigma=2)\n",
    "#    μ_g_offset = pm.Normal(\"μ_g_offset\", sigma=2, dims=\"days\")\n",
    "#    \n",
    "#    μ = pm.Deterministic(\"μ\", μ_g + μ_g_offset * σ_g, dims=\"days\")\n",
    "#    σ = pm.HalfNormal(\"σ\", sigma=1, dims=\"days\")\n",
    "#\n",
    "#    y = pm.Gamma(\"y\", mu=μ[idx], sigma=σ[idx], observed=tip, dims=\"days_flat\")\n",
    "#\n",
    "#    idata_cg_h_01 = pm.sample(random_seed=4591, target_accept=0.99)"
   ]
  },
  {
   "cell_type": "code",
   "execution_count": 10,
   "id": "075b6506-8051-4232-bfcf-d7146d596afe",
   "metadata": {},
   "outputs": [
    {
     "data": {
      "image/png": "[encoded data removed]",
      "text/plain": [
       "<Figure size 1200x300 with 1 Axes>"
      ]
     },
     "metadata": {},
     "output_type": "display_data"
    }
   ],
   "source": [
    "axes = az.plot_forest([idata_cg_nh, idata_cg_h_00, idata_cg_h_01],\n",
    "                      model_names=['non_hierarchical', 'hierarchical_00', 'hierarchical_01'],\n",
    "                      var_names=['μ'], combined=True, r_hat=False, ess=False, figsize=(12, 3),\n",
    "                      colors='cycle')\n",
    "y_lims = axes[0].get_ylim()\n",
    "axes[0].vlines(idata_cg_h_00.posterior['μ_g'].mean(), *y_lims, color=\"k\", ls=\":\");"
   ]
  },
  {
   "cell_type": "markdown",
   "id": "36502f78-baaa-4b25-b514-a7be6e24b82e",
   "metadata": {},
   "source": [
    "We can see little if any difference between the hierarchical and non-hierarchical versions of these models when we use a HalfNormal distribution for the mean μ (`hierarchical_01` and `non_hierarchical`, respectively). The difference is larger when we use a Gamma (`hierarchical_01`) instead. The Gamma with its two parameters is a more flexible distribution. "
   ]
  },
  {
   "cell_type": "markdown",
   "id": "2403d61b-e340-4f56-8a6c-d9ddb10bc82c",
   "metadata": {},
   "source": [
    "## Exercise 4\n",
    "***\n",
    "\n",
    "For each subpanel in Figure 3.7, add a reference line representing the empirical mean\n",
    "value at each level, that is, the global mean, the forward mean, and Messi’s mean.\n",
    "Compare the empirical values to the posterior mean values. What do you observe?"
   ]
  },
  {
   "cell_type": "code",
   "execution_count": 11,
   "id": "d32278e2-65f1-4335-a5d8-0ef3d8952a93",
   "metadata": {},
   "outputs": [],
   "source": [
    "football = pd.read_csv(\"../code/data/football_players.csv\", dtype={'position':'category'})\n",
    "football[\"gps\"] = football[\"goals\"] / football[\"shots\"]"
   ]
  },
  {
   "cell_type": "code",
   "execution_count": 12,
   "id": "32ff0025-36b9-4b90-866a-c7d0594444e7",
   "metadata": {},
   "outputs": [],
   "source": [
    "pos_idx = football.position.cat.codes.values\n",
    "pos_codes = football.position.cat.categories\n",
    "n_pos = pos_codes.size\n",
    "n_players = football.index.size"
   ]
  },
  {
   "cell_type": "code",
   "execution_count": 13,
   "id": "58f77594-c5c6-4310-a1cb-c35978950edd",
   "metadata": {},
   "outputs": [
    {
     "name": "stderr",
     "output_type": "stream",
     "text": [
      "Auto-assigning NUTS sampler...\n",
      "Initializing NUTS using jitter+adapt_diag...\n",
      "Multiprocess sampling (4 chains in 4 jobs)\n",
      "NUTS: [μ, ν, μ_p, ν_p, θ]\n"
     ]
    },
    {
     "data": {
      "text/html": [
       "\n",
       "<style>\n",
       "    /* Turns off some styling */\n",
       "    progress {\n",
       "        /* gets rid of default border in Firefox and Opera. */\n",
       "        border: none;\n",
       "        /* Needs to be in here for Safari polyfill so background images work as expected. */\n",
       "        background-size: auto;\n",
       "    }\n",
       "    progress:not([value]), progress:not([value])::-webkit-progress-bar {\n",
       "        background: repeating-linear-gradient(45deg, #7e7e7e, #7e7e7e 10px, #5c5c5c 10px, #5c5c5c 20px);\n",
       "    }\n",
       "    .progress-bar-interrupted, .progress-bar-interrupted::-webkit-progress-bar {\n",
       "        background: #F44336;\n",
       "    }\n",
       "</style>\n"
      ],
      "text/plain": [
       "<IPython.core.display.HTML object>"
      ]
     },
     "metadata": {},
     "output_type": "display_data"
    },
    {
     "data": {
      "text/html": [
       "\n",
       "    <div>\n",
       "      <progress value='16000' class='' max='16000' style='width:300px; height:20px; vertical-align: middle;'></progress>\n",
       "      100.00% [16000/16000 03:23&lt;00:00 Sampling 4 chains, 0 divergences]\n",
       "    </div>\n",
       "    "
      ],
      "text/plain": [
       "<IPython.core.display.HTML object>"
      ]
     },
     "metadata": {},
     "output_type": "display_data"
    },
    {
     "name": "stderr",
     "output_type": "stream",
     "text": [
      "Sampling 4 chains for 1_000 tune and 3_000 draw iterations (4_000 + 12_000 draws total) took 203 seconds.\n",
      "The rhat statistic is larger than 1.01 for some parameters. This indicates problems during sampling. See https://arxiv.org/abs/1903.08008 for details\n",
      "The effective sample size per chain is smaller than 100 for some parameters.  A higher number is needed for reliable rhat and ess computation. See https://arxiv.org/abs/1903.08008 for details\n"
     ]
    }
   ],
   "source": [
    "coords = {\"pos\": pos_codes}\n",
    "with pm.Model(coords=coords) as model_football:\n",
    "    # Hyper parameters\n",
    "    μ = pm.Beta('μ', 1.7, 5.8) \n",
    "    ν = pm.Gamma('ν', mu=125, sigma=50)\n",
    "\n",
    "    \n",
    "    # Parameters for positions\n",
    "    μ_p = pm.Beta('μ_p',\n",
    "                       mu=μ,\n",
    "                       nu=ν,\n",
    "                       dims = \"pos\")\n",
    "    \n",
    "    ν_p = pm.Gamma('ν_p', mu=125, sigma=50, dims=\"pos\")\n",
    " \n",
    "    # Parameter for players\n",
    "    θ = pm.Beta('θ', \n",
    "                    mu=μ_p[pos_idx],\n",
    "                    nu=ν_p[pos_idx])\n",
    "    \n",
    "    _ = pm.Binomial('gs', n=football.shots.values, p=θ, observed=football.goals.values)\n",
    "\n",
    "    idata_football = pm.sample(draws=3000, target_accept=0.95, random_seed=4591)"
   ]
  },
  {
   "cell_type": "code",
   "execution_count": 14,
   "id": "921433a7-4047-4fe5-a4fd-05e729334fdf",
   "metadata": {},
   "outputs": [
    {
     "data": {
      "text/plain": [
       "Text(0.5, 1.0, 'Messi mean')"
      ]
     },
     "execution_count": 14,
     "metadata": {},
     "output_type": "execute_result"
    },
    {
     "data": {
      "image/png": "[encoded data removed]",
      "text/plain": [
       "<Figure size 1200x600 with 3 Axes>"
      ]
     },
     "metadata": {},
     "output_type": "display_data"
    }
   ],
   "source": [
    "_, ax = plt.subplots(3, 1, figsize=(12, 6), sharex=True)\n",
    "az.plot_posterior(idata_football, var_names='μ', ax=ax[0])\n",
    "ax[0].axvline(football[\"gps\"].mean(), color=\"0.25\", ls=\"--\")\n",
    "ax[0].set_title(r\"Global mean\")\n",
    "az.plot_posterior(idata_football.posterior.sel(pos=\"FW\"), var_names='μ_p', ax=ax[1])\n",
    "ax[1].axvline(football[\"gps\"][football[\"position\"] == \"FW\"].mean(), color=\"0.25\", ls=\"--\")\n",
    "ax[1].set_title(r\"Forward position mean\")\n",
    "az.plot_posterior(idata_football.posterior.sel(θ_dim_0=1457), var_names='θ', ax=ax[2])\n",
    "ax[2].axvline(football[\"gps\"][football[\"name\"] == \"Lionel Messi\"].item(), color=\"0.25\", ls=\"--\")\n",
    "ax[2].set_title(r\"Messi mean\")"
   ]
  },
  {
   "cell_type": "markdown",
   "id": "21acfea6-1e35-44c4-b00b-98c67b73ad93",
   "metadata": {},
   "source": [
    "## Exercise 5\n",
    "***\n",
    "Amino acids are usually grouped into categories such as polar, non-polar, charged,\n",
    "and special. Build a hierarchical model similar to cs_h but including a group effect\n",
    "for the amino acid category. Compare the results to those obtained in this chapter."
   ]
  },
  {
   "cell_type": "code",
   "execution_count": 15,
   "id": "142f5c3f-e85a-4dba-9b84-abbf07cb22af",
   "metadata": {},
   "outputs": [],
   "source": [
    "cs_data = pd.read_csv('../code/data/chemical_shifts_theo_exp.csv')\n",
    "diff = cs_data.theo - cs_data.exp\n",
    "cat_encode = pd.Categorical(cs_data['cat'])\n",
    "idx = cat_encode.codes\n",
    "coords = {\"cat\": cat_encode.categories}"
   ]
  },
  {
   "cell_type": "code",
   "execution_count": 16,
   "id": "5f83b493-e860-4c9b-9c1d-4311cddb8dce",
   "metadata": {},
   "outputs": [
    {
     "name": "stderr",
     "output_type": "stream",
     "text": [
      "Auto-assigning NUTS sampler...\n",
      "Initializing NUTS using jitter+adapt_diag...\n",
      "Multiprocess sampling (4 chains in 4 jobs)\n",
      "NUTS: [μ_mu, μ_sd, μ, σ]\n"
     ]
    },
    {
     "data": {
      "text/html": [
       "\n",
       "<style>\n",
       "    /* Turns off some styling */\n",
       "    progress {\n",
       "        /* gets rid of default border in Firefox and Opera. */\n",
       "        border: none;\n",
       "        /* Needs to be in here for Safari polyfill so background images work as expected. */\n",
       "        background-size: auto;\n",
       "    }\n",
       "    progress:not([value]), progress:not([value])::-webkit-progress-bar {\n",
       "        background: repeating-linear-gradient(45deg, #7e7e7e, #7e7e7e 10px, #5c5c5c 10px, #5c5c5c 20px);\n",
       "    }\n",
       "    .progress-bar-interrupted, .progress-bar-interrupted::-webkit-progress-bar {\n",
       "        background: #F44336;\n",
       "    }\n",
       "</style>\n"
      ],
      "text/plain": [
       "<IPython.core.display.HTML object>"
      ]
     },
     "metadata": {},
     "output_type": "display_data"
    },
    {
     "data": {
      "text/html": [
       "\n",
       "    <div>\n",
       "      <progress value='12000' class='' max='12000' style='width:300px; height:20px; vertical-align: middle;'></progress>\n",
       "      100.00% [12000/12000 00:25&lt;00:00 Sampling 4 chains, 4 divergences]\n",
       "    </div>\n",
       "    "
      ],
      "text/plain": [
       "<IPython.core.display.HTML object>"
      ]
     },
     "metadata": {},
     "output_type": "display_data"
    },
    {
     "name": "stderr",
     "output_type": "stream",
     "text": [
      "Sampling 4 chains for 2_000 tune and 1_000 draw iterations (8_000 + 4_000 draws total) took 25 seconds.\n",
      "There were 4 divergences after tuning. Increase `target_accept` or reparameterize.\n"
     ]
    }
   ],
   "source": [
    "with pm.Model(coords=coords) as cs_h_cat:\n",
    "    # hyper_priors\n",
    "    μ_mu = pm.Normal('μ_mu', mu=0, sigma=10)\n",
    "    μ_sd = pm.HalfNormal('μ_sd', 10)\n",
    "\n",
    "    # priors\n",
    "    μ = pm.Normal('μ', mu=μ_mu, sigma=μ_sd, dims=\"cat\") \n",
    "    σ = pm.HalfNormal('σ', sigma=10, dims=\"cat\") \n",
    "\n",
    "    y = pm.Normal('y', mu=μ[idx], sigma=σ[idx], observed=diff) \n",
    "\n",
    "    idata_cs_h_cat = pm.sample(tune=2000, random_seed=4591, target_accept=0.99)"
   ]
  },
  {
   "cell_type": "code",
   "execution_count": 17,
   "id": "08e9b13c-bbfc-4974-a8c3-ff929d9144a8",
   "metadata": {},
   "outputs": [
    {
     "data": {
      "image/png": "[encoded data removed]",
      "text/plain": [
       "<Figure size 1200x300 with 1 Axes>"
      ]
     },
     "metadata": {},
     "output_type": "display_data"
    }
   ],
   "source": [
    "axes = az.plot_forest(idata_cs_h_cat,\n",
    "                      var_names='μ', combined=True, r_hat=False, ess=False, figsize=(12, 3))\n",
    "y_lims = axes[0].get_ylim()\n",
    "axes[0].vlines(idata_cs_h_cat.posterior['μ_mu'].mean(), *y_lims, color=\"k\", ls=\":\");"
   ]
  }
 ],
 "metadata": {
  "kernelspec": {
   "display_name": "Python 3 (ipykernel)",
   "language": "python",
   "name": "python3"
  },
  "language_info": {
   "codemirror_mode": {
    "name": "ipython",
    "version": 3
   },
   "file_extension": ".py",
   "mimetype": "text/x-python",
   "name": "python",
   "nbconvert_exporter": "python",
   "pygments_lexer": "ipython3",
   "version": "3.11.6"
  },
  "widgets": {
   "application/vnd.jupyter.widget-state+json": {
    "state": {},
    "version_major": 2,
    "version_minor": 0
   }
  }
 },
 "nbformat": 4,
 "nbformat_minor": 5
}
